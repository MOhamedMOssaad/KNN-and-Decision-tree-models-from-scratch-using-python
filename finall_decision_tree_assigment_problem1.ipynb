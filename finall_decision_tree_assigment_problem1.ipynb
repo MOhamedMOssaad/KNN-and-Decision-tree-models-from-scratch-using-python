{
  "nbformat": 4,
  "nbformat_minor": 0,
  "metadata": {
    "colab": {
      "provenance": [],
      "toc_visible": true
    },
    "kernelspec": {
      "name": "python3",
      "display_name": "Python 3"
    },
    "language_info": {
      "name": "python"
    }
  },
  "cells": [
    {
      "cell_type": "code",
      "execution_count": null,
      "metadata": {
        "id": "M4dbidREJsyc"
      },
      "outputs": [],
      "source": [
        "import pandas as pd\n",
        "import numpy as np\n",
        "from matplotlib import pyplot as plt\n",
        "import seaborn as sn\n",
        "import warnings\n",
        "warnings.filterwarnings('ignore')\n",
        "import math "
      ]
    },
    {
      "cell_type": "code",
      "source": [
        "from google.colab import drive\n",
        "drive.mount('/content/drive')"
      ],
      "metadata": {
        "colab": {
          "base_uri": "https://localhost:8080/"
        },
        "id": "Wn0Rk466KH-E",
        "outputId": "c846cc1c-9158-4222-99df-a811f32f04f6"
      },
      "execution_count": null,
      "outputs": [
        {
          "output_type": "stream",
          "name": "stdout",
          "text": [
            "Drive already mounted at /content/drive; to attempt to forcibly remount, call drive.mount(\"/content/drive\", force_remount=True).\n"
          ]
        }
      ]
    },
    {
      "cell_type": "code",
      "source": [
        "name=['class','input1','input2','input3','input4','input5','input6','input7','input8','input9','input10','input11','input12','input13','input14','input15','input16']\n",
        "df=pd.read_csv('/content/drive/MyDrive/Dataset/prob 1 dataset.txt',sep=',',names=name,na_values='?')\n",
        "df.head()"
      ],
      "metadata": {
        "colab": {
          "base_uri": "https://localhost:8080/",
          "height": 270
        },
        "id": "w5gW0PTlKRz3",
        "outputId": "437f543d-f91f-4b89-b7f2-5e935c1603b3"
      },
      "execution_count": null,
      "outputs": [
        {
          "output_type": "execute_result",
          "data": {
            "text/plain": [
              "        class input1 input2 input3 input4 input5 input6 input7 input8 input9  \\\n",
              "0  republican      n      y      n      y      y      y      n      n      n   \n",
              "1  republican      n      y      n      y      y      y      n      n      n   \n",
              "2    democrat    NaN      y      y    NaN      y      y      n      n      n   \n",
              "3    democrat      n      y      y      n    NaN      y      n      n      n   \n",
              "4    democrat      y      y      y      n      y      y      n      n      n   \n",
              "\n",
              "  input10 input11 input12 input13 input14 input15 input16  \n",
              "0       y     NaN       y       y       y       n       y  \n",
              "1       n       n       y       y       y       n     NaN  \n",
              "2       n       y       n       y       y       n       n  \n",
              "3       n       y       n       y       n       n       y  \n",
              "4       n       y     NaN       y       y       y       y  "
            ],
            "text/html": [
              "\n",
              "  <div id=\"df-c2692591-ed44-467a-959c-20070ed6cde6\">\n",
              "    <div class=\"colab-df-container\">\n",
              "      <div>\n",
              "<style scoped>\n",
              "    .dataframe tbody tr th:only-of-type {\n",
              "        vertical-align: middle;\n",
              "    }\n",
              "\n",
              "    .dataframe tbody tr th {\n",
              "        vertical-align: top;\n",
              "    }\n",
              "\n",
              "    .dataframe thead th {\n",
              "        text-align: right;\n",
              "    }\n",
              "</style>\n",
              "<table border=\"1\" class=\"dataframe\">\n",
              "  <thead>\n",
              "    <tr style=\"text-align: right;\">\n",
              "      <th></th>\n",
              "      <th>class</th>\n",
              "      <th>input1</th>\n",
              "      <th>input2</th>\n",
              "      <th>input3</th>\n",
              "      <th>input4</th>\n",
              "      <th>input5</th>\n",
              "      <th>input6</th>\n",
              "      <th>input7</th>\n",
              "      <th>input8</th>\n",
              "      <th>input9</th>\n",
              "      <th>input10</th>\n",
              "      <th>input11</th>\n",
              "      <th>input12</th>\n",
              "      <th>input13</th>\n",
              "      <th>input14</th>\n",
              "      <th>input15</th>\n",
              "      <th>input16</th>\n",
              "    </tr>\n",
              "  </thead>\n",
              "  <tbody>\n",
              "    <tr>\n",
              "      <th>0</th>\n",
              "      <td>republican</td>\n",
              "      <td>n</td>\n",
              "      <td>y</td>\n",
              "      <td>n</td>\n",
              "      <td>y</td>\n",
              "      <td>y</td>\n",
              "      <td>y</td>\n",
              "      <td>n</td>\n",
              "      <td>n</td>\n",
              "      <td>n</td>\n",
              "      <td>y</td>\n",
              "      <td>NaN</td>\n",
              "      <td>y</td>\n",
              "      <td>y</td>\n",
              "      <td>y</td>\n",
              "      <td>n</td>\n",
              "      <td>y</td>\n",
              "    </tr>\n",
              "    <tr>\n",
              "      <th>1</th>\n",
              "      <td>republican</td>\n",
              "      <td>n</td>\n",
              "      <td>y</td>\n",
              "      <td>n</td>\n",
              "      <td>y</td>\n",
              "      <td>y</td>\n",
              "      <td>y</td>\n",
              "      <td>n</td>\n",
              "      <td>n</td>\n",
              "      <td>n</td>\n",
              "      <td>n</td>\n",
              "      <td>n</td>\n",
              "      <td>y</td>\n",
              "      <td>y</td>\n",
              "      <td>y</td>\n",
              "      <td>n</td>\n",
              "      <td>NaN</td>\n",
              "    </tr>\n",
              "    <tr>\n",
              "      <th>2</th>\n",
              "      <td>democrat</td>\n",
              "      <td>NaN</td>\n",
              "      <td>y</td>\n",
              "      <td>y</td>\n",
              "      <td>NaN</td>\n",
              "      <td>y</td>\n",
              "      <td>y</td>\n",
              "      <td>n</td>\n",
              "      <td>n</td>\n",
              "      <td>n</td>\n",
              "      <td>n</td>\n",
              "      <td>y</td>\n",
              "      <td>n</td>\n",
              "      <td>y</td>\n",
              "      <td>y</td>\n",
              "      <td>n</td>\n",
              "      <td>n</td>\n",
              "    </tr>\n",
              "    <tr>\n",
              "      <th>3</th>\n",
              "      <td>democrat</td>\n",
              "      <td>n</td>\n",
              "      <td>y</td>\n",
              "      <td>y</td>\n",
              "      <td>n</td>\n",
              "      <td>NaN</td>\n",
              "      <td>y</td>\n",
              "      <td>n</td>\n",
              "      <td>n</td>\n",
              "      <td>n</td>\n",
              "      <td>n</td>\n",
              "      <td>y</td>\n",
              "      <td>n</td>\n",
              "      <td>y</td>\n",
              "      <td>n</td>\n",
              "      <td>n</td>\n",
              "      <td>y</td>\n",
              "    </tr>\n",
              "    <tr>\n",
              "      <th>4</th>\n",
              "      <td>democrat</td>\n",
              "      <td>y</td>\n",
              "      <td>y</td>\n",
              "      <td>y</td>\n",
              "      <td>n</td>\n",
              "      <td>y</td>\n",
              "      <td>y</td>\n",
              "      <td>n</td>\n",
              "      <td>n</td>\n",
              "      <td>n</td>\n",
              "      <td>n</td>\n",
              "      <td>y</td>\n",
              "      <td>NaN</td>\n",
              "      <td>y</td>\n",
              "      <td>y</td>\n",
              "      <td>y</td>\n",
              "      <td>y</td>\n",
              "    </tr>\n",
              "  </tbody>\n",
              "</table>\n",
              "</div>\n",
              "      <button class=\"colab-df-convert\" onclick=\"convertToInteractive('df-c2692591-ed44-467a-959c-20070ed6cde6')\"\n",
              "              title=\"Convert this dataframe to an interactive table.\"\n",
              "              style=\"display:none;\">\n",
              "        \n",
              "  <svg xmlns=\"http://www.w3.org/2000/svg\" height=\"24px\"viewBox=\"0 0 24 24\"\n",
              "       width=\"24px\">\n",
              "    <path d=\"M0 0h24v24H0V0z\" fill=\"none\"/>\n",
              "    <path d=\"M18.56 5.44l.94 2.06.94-2.06 2.06-.94-2.06-.94-.94-2.06-.94 2.06-2.06.94zm-11 1L8.5 8.5l.94-2.06 2.06-.94-2.06-.94L8.5 2.5l-.94 2.06-2.06.94zm10 10l.94 2.06.94-2.06 2.06-.94-2.06-.94-.94-2.06-.94 2.06-2.06.94z\"/><path d=\"M17.41 7.96l-1.37-1.37c-.4-.4-.92-.59-1.43-.59-.52 0-1.04.2-1.43.59L10.3 9.45l-7.72 7.72c-.78.78-.78 2.05 0 2.83L4 21.41c.39.39.9.59 1.41.59.51 0 1.02-.2 1.41-.59l7.78-7.78 2.81-2.81c.8-.78.8-2.07 0-2.86zM5.41 20L4 18.59l7.72-7.72 1.47 1.35L5.41 20z\"/>\n",
              "  </svg>\n",
              "      </button>\n",
              "      \n",
              "  <style>\n",
              "    .colab-df-container {\n",
              "      display:flex;\n",
              "      flex-wrap:wrap;\n",
              "      gap: 12px;\n",
              "    }\n",
              "\n",
              "    .colab-df-convert {\n",
              "      background-color: #E8F0FE;\n",
              "      border: none;\n",
              "      border-radius: 50%;\n",
              "      cursor: pointer;\n",
              "      display: none;\n",
              "      fill: #1967D2;\n",
              "      height: 32px;\n",
              "      padding: 0 0 0 0;\n",
              "      width: 32px;\n",
              "    }\n",
              "\n",
              "    .colab-df-convert:hover {\n",
              "      background-color: #E2EBFA;\n",
              "      box-shadow: 0px 1px 2px rgba(60, 64, 67, 0.3), 0px 1px 3px 1px rgba(60, 64, 67, 0.15);\n",
              "      fill: #174EA6;\n",
              "    }\n",
              "\n",
              "    [theme=dark] .colab-df-convert {\n",
              "      background-color: #3B4455;\n",
              "      fill: #D2E3FC;\n",
              "    }\n",
              "\n",
              "    [theme=dark] .colab-df-convert:hover {\n",
              "      background-color: #434B5C;\n",
              "      box-shadow: 0px 1px 3px 1px rgba(0, 0, 0, 0.15);\n",
              "      filter: drop-shadow(0px 1px 2px rgba(0, 0, 0, 0.3));\n",
              "      fill: #FFFFFF;\n",
              "    }\n",
              "  </style>\n",
              "\n",
              "      <script>\n",
              "        const buttonEl =\n",
              "          document.querySelector('#df-c2692591-ed44-467a-959c-20070ed6cde6 button.colab-df-convert');\n",
              "        buttonEl.style.display =\n",
              "          google.colab.kernel.accessAllowed ? 'block' : 'none';\n",
              "\n",
              "        async function convertToInteractive(key) {\n",
              "          const element = document.querySelector('#df-c2692591-ed44-467a-959c-20070ed6cde6');\n",
              "          const dataTable =\n",
              "            await google.colab.kernel.invokeFunction('convertToInteractive',\n",
              "                                                     [key], {});\n",
              "          if (!dataTable) return;\n",
              "\n",
              "          const docLinkHtml = 'Like what you see? Visit the ' +\n",
              "            '<a target=\"_blank\" href=https://colab.research.google.com/notebooks/data_table.ipynb>data table notebook</a>'\n",
              "            + ' to learn more about interactive tables.';\n",
              "          element.innerHTML = '';\n",
              "          dataTable['output_type'] = 'display_data';\n",
              "          await google.colab.output.renderOutput(dataTable, element);\n",
              "          const docLink = document.createElement('div');\n",
              "          docLink.innerHTML = docLinkHtml;\n",
              "          element.appendChild(docLink);\n",
              "        }\n",
              "      </script>\n",
              "    </div>\n",
              "  </div>\n",
              "  "
            ]
          },
          "metadata": {},
          "execution_count": 3
        }
      ]
    },
    {
      "cell_type": "code",
      "source": [
        "#df.replace(\"?\", np.nan, inplace = True) \n",
        "#df.head()"
      ],
      "metadata": {
        "id": "vbS5mF1kKdaR"
      },
      "execution_count": null,
      "outputs": []
    },
    {
      "cell_type": "code",
      "source": [
        "df.info()"
      ],
      "metadata": {
        "colab": {
          "base_uri": "https://localhost:8080/"
        },
        "id": "gGoyKwU0NZ5_",
        "outputId": "102727c3-7f87-4c6c-eb72-77e51437e92b"
      },
      "execution_count": null,
      "outputs": [
        {
          "output_type": "stream",
          "name": "stdout",
          "text": [
            "<class 'pandas.core.frame.DataFrame'>\n",
            "RangeIndex: 435 entries, 0 to 434\n",
            "Data columns (total 17 columns):\n",
            " #   Column   Non-Null Count  Dtype \n",
            "---  ------   --------------  ----- \n",
            " 0   class    435 non-null    object\n",
            " 1   input1   423 non-null    object\n",
            " 2   input2   387 non-null    object\n",
            " 3   input3   424 non-null    object\n",
            " 4   input4   424 non-null    object\n",
            " 5   input5   420 non-null    object\n",
            " 6   input6   424 non-null    object\n",
            " 7   input7   421 non-null    object\n",
            " 8   input8   420 non-null    object\n",
            " 9   input9   413 non-null    object\n",
            " 10  input10  428 non-null    object\n",
            " 11  input11  414 non-null    object\n",
            " 12  input12  404 non-null    object\n",
            " 13  input13  410 non-null    object\n",
            " 14  input14  418 non-null    object\n",
            " 15  input15  407 non-null    object\n",
            " 16  input16  331 non-null    object\n",
            "dtypes: object(17)\n",
            "memory usage: 57.9+ KB\n"
          ]
        }
      ]
    },
    {
      "cell_type": "code",
      "source": [
        "#for i in df.columns:\n",
        "  #df[i].fillna(df[i].mode()[0], inplace = True)"
      ],
      "metadata": {
        "id": "QS5kTJSkyqKD"
      },
      "execution_count": null,
      "outputs": []
    },
    {
      "cell_type": "code",
      "source": [
        "df.shape"
      ],
      "metadata": {
        "colab": {
          "base_uri": "https://localhost:8080/"
        },
        "id": "3QYBWxHANeE-",
        "outputId": "7bf8b585-e5e2-436e-c3ff-4f6e27956cb2"
      },
      "execution_count": null,
      "outputs": [
        {
          "output_type": "execute_result",
          "data": {
            "text/plain": [
              "(435, 17)"
            ]
          },
          "metadata": {},
          "execution_count": 7
        }
      ]
    },
    {
      "cell_type": "code",
      "source": [
        "df_new = df.T.fillna(df.iloc[:,1:].astype(object).mode(axis=1)[0]).T\n",
        "df_new"
      ],
      "metadata": {
        "colab": {
          "base_uri": "https://localhost:8080/",
          "height": 488
        },
        "id": "BfaBvIRINm7a",
        "outputId": "ec9746b6-b49a-4199-943c-66782d35e5ed"
      },
      "execution_count": null,
      "outputs": [
        {
          "output_type": "execute_result",
          "data": {
            "text/plain": [
              "          class input1 input2 input3 input4 input5 input6 input7 input8  \\\n",
              "0    republican      n      y      n      y      y      y      n      n   \n",
              "1    republican      n      y      n      y      y      y      n      n   \n",
              "2      democrat      n      y      y      n      y      y      n      n   \n",
              "3      democrat      n      y      y      n      n      y      n      n   \n",
              "4      democrat      y      y      y      n      y      y      n      n   \n",
              "..          ...    ...    ...    ...    ...    ...    ...    ...    ...   \n",
              "430  republican      n      n      y      y      y      y      n      n   \n",
              "431    democrat      n      n      y      n      n      n      y      y   \n",
              "432  republican      n      y      n      y      y      y      n      n   \n",
              "433  republican      n      n      n      y      y      y      y      y   \n",
              "434  republican      n      y      n      y      y      y      n      n   \n",
              "\n",
              "    input9 input10 input11 input12 input13 input14 input15 input16  \n",
              "0        n       y       y       y       y       y       n       y  \n",
              "1        n       n       n       y       y       y       n       n  \n",
              "2        n       n       y       n       y       y       n       n  \n",
              "3        n       n       y       n       y       n       n       y  \n",
              "4        n       n       y       y       y       y       y       y  \n",
              "..     ...     ...     ...     ...     ...     ...     ...     ...  \n",
              "430      y       y       n       y       y       y       n       y  \n",
              "431      y       y       n       n       n       n       n       y  \n",
              "432      n       n       y       y       y       y       n       y  \n",
              "433      y       y       n       y       y       y       n       y  \n",
              "434      n       y       n       y       y       y       y       n  \n",
              "\n",
              "[435 rows x 17 columns]"
            ],
            "text/html": [
              "\n",
              "  <div id=\"df-069b0603-db9d-4ce5-8f35-1a39d3b56325\">\n",
              "    <div class=\"colab-df-container\">\n",
              "      <div>\n",
              "<style scoped>\n",
              "    .dataframe tbody tr th:only-of-type {\n",
              "        vertical-align: middle;\n",
              "    }\n",
              "\n",
              "    .dataframe tbody tr th {\n",
              "        vertical-align: top;\n",
              "    }\n",
              "\n",
              "    .dataframe thead th {\n",
              "        text-align: right;\n",
              "    }\n",
              "</style>\n",
              "<table border=\"1\" class=\"dataframe\">\n",
              "  <thead>\n",
              "    <tr style=\"text-align: right;\">\n",
              "      <th></th>\n",
              "      <th>class</th>\n",
              "      <th>input1</th>\n",
              "      <th>input2</th>\n",
              "      <th>input3</th>\n",
              "      <th>input4</th>\n",
              "      <th>input5</th>\n",
              "      <th>input6</th>\n",
              "      <th>input7</th>\n",
              "      <th>input8</th>\n",
              "      <th>input9</th>\n",
              "      <th>input10</th>\n",
              "      <th>input11</th>\n",
              "      <th>input12</th>\n",
              "      <th>input13</th>\n",
              "      <th>input14</th>\n",
              "      <th>input15</th>\n",
              "      <th>input16</th>\n",
              "    </tr>\n",
              "  </thead>\n",
              "  <tbody>\n",
              "    <tr>\n",
              "      <th>0</th>\n",
              "      <td>republican</td>\n",
              "      <td>n</td>\n",
              "      <td>y</td>\n",
              "      <td>n</td>\n",
              "      <td>y</td>\n",
              "      <td>y</td>\n",
              "      <td>y</td>\n",
              "      <td>n</td>\n",
              "      <td>n</td>\n",
              "      <td>n</td>\n",
              "      <td>y</td>\n",
              "      <td>y</td>\n",
              "      <td>y</td>\n",
              "      <td>y</td>\n",
              "      <td>y</td>\n",
              "      <td>n</td>\n",
              "      <td>y</td>\n",
              "    </tr>\n",
              "    <tr>\n",
              "      <th>1</th>\n",
              "      <td>republican</td>\n",
              "      <td>n</td>\n",
              "      <td>y</td>\n",
              "      <td>n</td>\n",
              "      <td>y</td>\n",
              "      <td>y</td>\n",
              "      <td>y</td>\n",
              "      <td>n</td>\n",
              "      <td>n</td>\n",
              "      <td>n</td>\n",
              "      <td>n</td>\n",
              "      <td>n</td>\n",
              "      <td>y</td>\n",
              "      <td>y</td>\n",
              "      <td>y</td>\n",
              "      <td>n</td>\n",
              "      <td>n</td>\n",
              "    </tr>\n",
              "    <tr>\n",
              "      <th>2</th>\n",
              "      <td>democrat</td>\n",
              "      <td>n</td>\n",
              "      <td>y</td>\n",
              "      <td>y</td>\n",
              "      <td>n</td>\n",
              "      <td>y</td>\n",
              "      <td>y</td>\n",
              "      <td>n</td>\n",
              "      <td>n</td>\n",
              "      <td>n</td>\n",
              "      <td>n</td>\n",
              "      <td>y</td>\n",
              "      <td>n</td>\n",
              "      <td>y</td>\n",
              "      <td>y</td>\n",
              "      <td>n</td>\n",
              "      <td>n</td>\n",
              "    </tr>\n",
              "    <tr>\n",
              "      <th>3</th>\n",
              "      <td>democrat</td>\n",
              "      <td>n</td>\n",
              "      <td>y</td>\n",
              "      <td>y</td>\n",
              "      <td>n</td>\n",
              "      <td>n</td>\n",
              "      <td>y</td>\n",
              "      <td>n</td>\n",
              "      <td>n</td>\n",
              "      <td>n</td>\n",
              "      <td>n</td>\n",
              "      <td>y</td>\n",
              "      <td>n</td>\n",
              "      <td>y</td>\n",
              "      <td>n</td>\n",
              "      <td>n</td>\n",
              "      <td>y</td>\n",
              "    </tr>\n",
              "    <tr>\n",
              "      <th>4</th>\n",
              "      <td>democrat</td>\n",
              "      <td>y</td>\n",
              "      <td>y</td>\n",
              "      <td>y</td>\n",
              "      <td>n</td>\n",
              "      <td>y</td>\n",
              "      <td>y</td>\n",
              "      <td>n</td>\n",
              "      <td>n</td>\n",
              "      <td>n</td>\n",
              "      <td>n</td>\n",
              "      <td>y</td>\n",
              "      <td>y</td>\n",
              "      <td>y</td>\n",
              "      <td>y</td>\n",
              "      <td>y</td>\n",
              "      <td>y</td>\n",
              "    </tr>\n",
              "    <tr>\n",
              "      <th>...</th>\n",
              "      <td>...</td>\n",
              "      <td>...</td>\n",
              "      <td>...</td>\n",
              "      <td>...</td>\n",
              "      <td>...</td>\n",
              "      <td>...</td>\n",
              "      <td>...</td>\n",
              "      <td>...</td>\n",
              "      <td>...</td>\n",
              "      <td>...</td>\n",
              "      <td>...</td>\n",
              "      <td>...</td>\n",
              "      <td>...</td>\n",
              "      <td>...</td>\n",
              "      <td>...</td>\n",
              "      <td>...</td>\n",
              "      <td>...</td>\n",
              "    </tr>\n",
              "    <tr>\n",
              "      <th>430</th>\n",
              "      <td>republican</td>\n",
              "      <td>n</td>\n",
              "      <td>n</td>\n",
              "      <td>y</td>\n",
              "      <td>y</td>\n",
              "      <td>y</td>\n",
              "      <td>y</td>\n",
              "      <td>n</td>\n",
              "      <td>n</td>\n",
              "      <td>y</td>\n",
              "      <td>y</td>\n",
              "      <td>n</td>\n",
              "      <td>y</td>\n",
              "      <td>y</td>\n",
              "      <td>y</td>\n",
              "      <td>n</td>\n",
              "      <td>y</td>\n",
              "    </tr>\n",
              "    <tr>\n",
              "      <th>431</th>\n",
              "      <td>democrat</td>\n",
              "      <td>n</td>\n",
              "      <td>n</td>\n",
              "      <td>y</td>\n",
              "      <td>n</td>\n",
              "      <td>n</td>\n",
              "      <td>n</td>\n",
              "      <td>y</td>\n",
              "      <td>y</td>\n",
              "      <td>y</td>\n",
              "      <td>y</td>\n",
              "      <td>n</td>\n",
              "      <td>n</td>\n",
              "      <td>n</td>\n",
              "      <td>n</td>\n",
              "      <td>n</td>\n",
              "      <td>y</td>\n",
              "    </tr>\n",
              "    <tr>\n",
              "      <th>432</th>\n",
              "      <td>republican</td>\n",
              "      <td>n</td>\n",
              "      <td>y</td>\n",
              "      <td>n</td>\n",
              "      <td>y</td>\n",
              "      <td>y</td>\n",
              "      <td>y</td>\n",
              "      <td>n</td>\n",
              "      <td>n</td>\n",
              "      <td>n</td>\n",
              "      <td>n</td>\n",
              "      <td>y</td>\n",
              "      <td>y</td>\n",
              "      <td>y</td>\n",
              "      <td>y</td>\n",
              "      <td>n</td>\n",
              "      <td>y</td>\n",
              "    </tr>\n",
              "    <tr>\n",
              "      <th>433</th>\n",
              "      <td>republican</td>\n",
              "      <td>n</td>\n",
              "      <td>n</td>\n",
              "      <td>n</td>\n",
              "      <td>y</td>\n",
              "      <td>y</td>\n",
              "      <td>y</td>\n",
              "      <td>y</td>\n",
              "      <td>y</td>\n",
              "      <td>y</td>\n",
              "      <td>y</td>\n",
              "      <td>n</td>\n",
              "      <td>y</td>\n",
              "      <td>y</td>\n",
              "      <td>y</td>\n",
              "      <td>n</td>\n",
              "      <td>y</td>\n",
              "    </tr>\n",
              "    <tr>\n",
              "      <th>434</th>\n",
              "      <td>republican</td>\n",
              "      <td>n</td>\n",
              "      <td>y</td>\n",
              "      <td>n</td>\n",
              "      <td>y</td>\n",
              "      <td>y</td>\n",
              "      <td>y</td>\n",
              "      <td>n</td>\n",
              "      <td>n</td>\n",
              "      <td>n</td>\n",
              "      <td>y</td>\n",
              "      <td>n</td>\n",
              "      <td>y</td>\n",
              "      <td>y</td>\n",
              "      <td>y</td>\n",
              "      <td>y</td>\n",
              "      <td>n</td>\n",
              "    </tr>\n",
              "  </tbody>\n",
              "</table>\n",
              "<p>435 rows × 17 columns</p>\n",
              "</div>\n",
              "      <button class=\"colab-df-convert\" onclick=\"convertToInteractive('df-069b0603-db9d-4ce5-8f35-1a39d3b56325')\"\n",
              "              title=\"Convert this dataframe to an interactive table.\"\n",
              "              style=\"display:none;\">\n",
              "        \n",
              "  <svg xmlns=\"http://www.w3.org/2000/svg\" height=\"24px\"viewBox=\"0 0 24 24\"\n",
              "       width=\"24px\">\n",
              "    <path d=\"M0 0h24v24H0V0z\" fill=\"none\"/>\n",
              "    <path d=\"M18.56 5.44l.94 2.06.94-2.06 2.06-.94-2.06-.94-.94-2.06-.94 2.06-2.06.94zm-11 1L8.5 8.5l.94-2.06 2.06-.94-2.06-.94L8.5 2.5l-.94 2.06-2.06.94zm10 10l.94 2.06.94-2.06 2.06-.94-2.06-.94-.94-2.06-.94 2.06-2.06.94z\"/><path d=\"M17.41 7.96l-1.37-1.37c-.4-.4-.92-.59-1.43-.59-.52 0-1.04.2-1.43.59L10.3 9.45l-7.72 7.72c-.78.78-.78 2.05 0 2.83L4 21.41c.39.39.9.59 1.41.59.51 0 1.02-.2 1.41-.59l7.78-7.78 2.81-2.81c.8-.78.8-2.07 0-2.86zM5.41 20L4 18.59l7.72-7.72 1.47 1.35L5.41 20z\"/>\n",
              "  </svg>\n",
              "      </button>\n",
              "      \n",
              "  <style>\n",
              "    .colab-df-container {\n",
              "      display:flex;\n",
              "      flex-wrap:wrap;\n",
              "      gap: 12px;\n",
              "    }\n",
              "\n",
              "    .colab-df-convert {\n",
              "      background-color: #E8F0FE;\n",
              "      border: none;\n",
              "      border-radius: 50%;\n",
              "      cursor: pointer;\n",
              "      display: none;\n",
              "      fill: #1967D2;\n",
              "      height: 32px;\n",
              "      padding: 0 0 0 0;\n",
              "      width: 32px;\n",
              "    }\n",
              "\n",
              "    .colab-df-convert:hover {\n",
              "      background-color: #E2EBFA;\n",
              "      box-shadow: 0px 1px 2px rgba(60, 64, 67, 0.3), 0px 1px 3px 1px rgba(60, 64, 67, 0.15);\n",
              "      fill: #174EA6;\n",
              "    }\n",
              "\n",
              "    [theme=dark] .colab-df-convert {\n",
              "      background-color: #3B4455;\n",
              "      fill: #D2E3FC;\n",
              "    }\n",
              "\n",
              "    [theme=dark] .colab-df-convert:hover {\n",
              "      background-color: #434B5C;\n",
              "      box-shadow: 0px 1px 3px 1px rgba(0, 0, 0, 0.15);\n",
              "      filter: drop-shadow(0px 1px 2px rgba(0, 0, 0, 0.3));\n",
              "      fill: #FFFFFF;\n",
              "    }\n",
              "  </style>\n",
              "\n",
              "      <script>\n",
              "        const buttonEl =\n",
              "          document.querySelector('#df-069b0603-db9d-4ce5-8f35-1a39d3b56325 button.colab-df-convert');\n",
              "        buttonEl.style.display =\n",
              "          google.colab.kernel.accessAllowed ? 'block' : 'none';\n",
              "\n",
              "        async function convertToInteractive(key) {\n",
              "          const element = document.querySelector('#df-069b0603-db9d-4ce5-8f35-1a39d3b56325');\n",
              "          const dataTable =\n",
              "            await google.colab.kernel.invokeFunction('convertToInteractive',\n",
              "                                                     [key], {});\n",
              "          if (!dataTable) return;\n",
              "\n",
              "          const docLinkHtml = 'Like what you see? Visit the ' +\n",
              "            '<a target=\"_blank\" href=https://colab.research.google.com/notebooks/data_table.ipynb>data table notebook</a>'\n",
              "            + ' to learn more about interactive tables.';\n",
              "          element.innerHTML = '';\n",
              "          dataTable['output_type'] = 'display_data';\n",
              "          await google.colab.output.renderOutput(dataTable, element);\n",
              "          const docLink = document.createElement('div');\n",
              "          docLink.innerHTML = docLinkHtml;\n",
              "          element.appendChild(docLink);\n",
              "        }\n",
              "      </script>\n",
              "    </div>\n",
              "  </div>\n",
              "  "
            ]
          },
          "metadata": {},
          "execution_count": 8
        }
      ]
    },
    {
      "cell_type": "code",
      "source": [
        "df_new.isnull().sum()"
      ],
      "metadata": {
        "colab": {
          "base_uri": "https://localhost:8080/"
        },
        "id": "9GZ1XJ9YNzMh",
        "outputId": "4216ac86-9f92-4182-cf94-9812d44071f9"
      },
      "execution_count": null,
      "outputs": [
        {
          "output_type": "execute_result",
          "data": {
            "text/plain": [
              "class      0\n",
              "input1     1\n",
              "input2     1\n",
              "input3     1\n",
              "input4     1\n",
              "input5     1\n",
              "input6     1\n",
              "input7     1\n",
              "input8     1\n",
              "input9     1\n",
              "input10    1\n",
              "input11    1\n",
              "input12    1\n",
              "input13    1\n",
              "input14    1\n",
              "input15    1\n",
              "input16    1\n",
              "dtype: int64"
            ]
          },
          "metadata": {},
          "execution_count": 9
        }
      ]
    },
    {
      "cell_type": "code",
      "source": [
        "df_new.info()"
      ],
      "metadata": {
        "colab": {
          "base_uri": "https://localhost:8080/"
        },
        "id": "QXhp2CGnOKmp",
        "outputId": "1f6aec53-157e-4906-b47a-f2d649268acc"
      },
      "execution_count": null,
      "outputs": [
        {
          "output_type": "stream",
          "name": "stdout",
          "text": [
            "<class 'pandas.core.frame.DataFrame'>\n",
            "RangeIndex: 435 entries, 0 to 434\n",
            "Data columns (total 17 columns):\n",
            " #   Column   Non-Null Count  Dtype \n",
            "---  ------   --------------  ----- \n",
            " 0   class    435 non-null    object\n",
            " 1   input1   434 non-null    object\n",
            " 2   input2   434 non-null    object\n",
            " 3   input3   434 non-null    object\n",
            " 4   input4   434 non-null    object\n",
            " 5   input5   434 non-null    object\n",
            " 6   input6   434 non-null    object\n",
            " 7   input7   434 non-null    object\n",
            " 8   input8   434 non-null    object\n",
            " 9   input9   434 non-null    object\n",
            " 10  input10  434 non-null    object\n",
            " 11  input11  434 non-null    object\n",
            " 12  input12  434 non-null    object\n",
            " 13  input13  434 non-null    object\n",
            " 14  input14  434 non-null    object\n",
            " 15  input15  434 non-null    object\n",
            " 16  input16  434 non-null    object\n",
            "dtypes: object(17)\n",
            "memory usage: 57.9+ KB\n"
          ]
        }
      ]
    },
    {
      "cell_type": "code",
      "source": [
        "df_new.isna().sum()"
      ],
      "metadata": {
        "colab": {
          "base_uri": "https://localhost:8080/"
        },
        "id": "3cITYgyQOnlK",
        "outputId": "aeb7b54d-ca7f-4d8d-d7bf-be9f6ea90d34"
      },
      "execution_count": null,
      "outputs": [
        {
          "output_type": "execute_result",
          "data": {
            "text/plain": [
              "class      0\n",
              "input1     1\n",
              "input2     1\n",
              "input3     1\n",
              "input4     1\n",
              "input5     1\n",
              "input6     1\n",
              "input7     1\n",
              "input8     1\n",
              "input9     1\n",
              "input10    1\n",
              "input11    1\n",
              "input12    1\n",
              "input13    1\n",
              "input14    1\n",
              "input15    1\n",
              "input16    1\n",
              "dtype: int64"
            ]
          },
          "metadata": {},
          "execution_count": 11
        }
      ]
    },
    {
      "cell_type": "code",
      "source": [
        "df_new.isnull().values. any()"
      ],
      "metadata": {
        "colab": {
          "base_uri": "https://localhost:8080/"
        },
        "id": "1TZ0vRXVPkLH",
        "outputId": "1c82bcf5-ee73-43db-a941-48e84b39508d"
      },
      "execution_count": null,
      "outputs": [
        {
          "output_type": "execute_result",
          "data": {
            "text/plain": [
              "True"
            ]
          },
          "metadata": {},
          "execution_count": 12
        }
      ]
    },
    {
      "cell_type": "code",
      "source": [
        "df_new[df_new['input1'].isnull()].index.tolist()"
      ],
      "metadata": {
        "colab": {
          "base_uri": "https://localhost:8080/"
        },
        "id": "UumnKYEgPuzm",
        "outputId": "936e34e5-120e-4c7d-d339-44c3f28ae626"
      },
      "execution_count": null,
      "outputs": [
        {
          "output_type": "execute_result",
          "data": {
            "text/plain": [
              "[248]"
            ]
          },
          "metadata": {},
          "execution_count": 13
        }
      ]
    },
    {
      "cell_type": "code",
      "source": [
        "df_new[df_new['input2'].isnull()].index.tolist()"
      ],
      "metadata": {
        "colab": {
          "base_uri": "https://localhost:8080/"
        },
        "id": "w1gTVB6KP1Vi",
        "outputId": "810dd0c4-4449-48ea-ab82-d495964180c6"
      },
      "execution_count": null,
      "outputs": [
        {
          "output_type": "execute_result",
          "data": {
            "text/plain": [
              "[248]"
            ]
          },
          "metadata": {},
          "execution_count": 14
        }
      ]
    },
    {
      "cell_type": "code",
      "source": [
        "df_new.loc[[248]]"
      ],
      "metadata": {
        "colab": {
          "base_uri": "https://localhost:8080/",
          "height": 145
        },
        "id": "lSvqvsOcP7Yb",
        "outputId": "e4737b14-7709-420d-d101-c92bae134fb3"
      },
      "execution_count": null,
      "outputs": [
        {
          "output_type": "execute_result",
          "data": {
            "text/plain": [
              "          class input1 input2 input3 input4 input5 input6 input7 input8  \\\n",
              "248  republican    NaN    NaN    NaN    NaN    NaN    NaN    NaN    NaN   \n",
              "\n",
              "    input9 input10 input11 input12 input13 input14 input15 input16  \n",
              "248    NaN     NaN     NaN     NaN     NaN     NaN     NaN     NaN  "
            ],
            "text/html": [
              "\n",
              "  <div id=\"df-d7d7ab1a-ed09-427e-b292-1ebb2078aabe\">\n",
              "    <div class=\"colab-df-container\">\n",
              "      <div>\n",
              "<style scoped>\n",
              "    .dataframe tbody tr th:only-of-type {\n",
              "        vertical-align: middle;\n",
              "    }\n",
              "\n",
              "    .dataframe tbody tr th {\n",
              "        vertical-align: top;\n",
              "    }\n",
              "\n",
              "    .dataframe thead th {\n",
              "        text-align: right;\n",
              "    }\n",
              "</style>\n",
              "<table border=\"1\" class=\"dataframe\">\n",
              "  <thead>\n",
              "    <tr style=\"text-align: right;\">\n",
              "      <th></th>\n",
              "      <th>class</th>\n",
              "      <th>input1</th>\n",
              "      <th>input2</th>\n",
              "      <th>input3</th>\n",
              "      <th>input4</th>\n",
              "      <th>input5</th>\n",
              "      <th>input6</th>\n",
              "      <th>input7</th>\n",
              "      <th>input8</th>\n",
              "      <th>input9</th>\n",
              "      <th>input10</th>\n",
              "      <th>input11</th>\n",
              "      <th>input12</th>\n",
              "      <th>input13</th>\n",
              "      <th>input14</th>\n",
              "      <th>input15</th>\n",
              "      <th>input16</th>\n",
              "    </tr>\n",
              "  </thead>\n",
              "  <tbody>\n",
              "    <tr>\n",
              "      <th>248</th>\n",
              "      <td>republican</td>\n",
              "      <td>NaN</td>\n",
              "      <td>NaN</td>\n",
              "      <td>NaN</td>\n",
              "      <td>NaN</td>\n",
              "      <td>NaN</td>\n",
              "      <td>NaN</td>\n",
              "      <td>NaN</td>\n",
              "      <td>NaN</td>\n",
              "      <td>NaN</td>\n",
              "      <td>NaN</td>\n",
              "      <td>NaN</td>\n",
              "      <td>NaN</td>\n",
              "      <td>NaN</td>\n",
              "      <td>NaN</td>\n",
              "      <td>NaN</td>\n",
              "      <td>NaN</td>\n",
              "    </tr>\n",
              "  </tbody>\n",
              "</table>\n",
              "</div>\n",
              "      <button class=\"colab-df-convert\" onclick=\"convertToInteractive('df-d7d7ab1a-ed09-427e-b292-1ebb2078aabe')\"\n",
              "              title=\"Convert this dataframe to an interactive table.\"\n",
              "              style=\"display:none;\">\n",
              "        \n",
              "  <svg xmlns=\"http://www.w3.org/2000/svg\" height=\"24px\"viewBox=\"0 0 24 24\"\n",
              "       width=\"24px\">\n",
              "    <path d=\"M0 0h24v24H0V0z\" fill=\"none\"/>\n",
              "    <path d=\"M18.56 5.44l.94 2.06.94-2.06 2.06-.94-2.06-.94-.94-2.06-.94 2.06-2.06.94zm-11 1L8.5 8.5l.94-2.06 2.06-.94-2.06-.94L8.5 2.5l-.94 2.06-2.06.94zm10 10l.94 2.06.94-2.06 2.06-.94-2.06-.94-.94-2.06-.94 2.06-2.06.94z\"/><path d=\"M17.41 7.96l-1.37-1.37c-.4-.4-.92-.59-1.43-.59-.52 0-1.04.2-1.43.59L10.3 9.45l-7.72 7.72c-.78.78-.78 2.05 0 2.83L4 21.41c.39.39.9.59 1.41.59.51 0 1.02-.2 1.41-.59l7.78-7.78 2.81-2.81c.8-.78.8-2.07 0-2.86zM5.41 20L4 18.59l7.72-7.72 1.47 1.35L5.41 20z\"/>\n",
              "  </svg>\n",
              "      </button>\n",
              "      \n",
              "  <style>\n",
              "    .colab-df-container {\n",
              "      display:flex;\n",
              "      flex-wrap:wrap;\n",
              "      gap: 12px;\n",
              "    }\n",
              "\n",
              "    .colab-df-convert {\n",
              "      background-color: #E8F0FE;\n",
              "      border: none;\n",
              "      border-radius: 50%;\n",
              "      cursor: pointer;\n",
              "      display: none;\n",
              "      fill: #1967D2;\n",
              "      height: 32px;\n",
              "      padding: 0 0 0 0;\n",
              "      width: 32px;\n",
              "    }\n",
              "\n",
              "    .colab-df-convert:hover {\n",
              "      background-color: #E2EBFA;\n",
              "      box-shadow: 0px 1px 2px rgba(60, 64, 67, 0.3), 0px 1px 3px 1px rgba(60, 64, 67, 0.15);\n",
              "      fill: #174EA6;\n",
              "    }\n",
              "\n",
              "    [theme=dark] .colab-df-convert {\n",
              "      background-color: #3B4455;\n",
              "      fill: #D2E3FC;\n",
              "    }\n",
              "\n",
              "    [theme=dark] .colab-df-convert:hover {\n",
              "      background-color: #434B5C;\n",
              "      box-shadow: 0px 1px 3px 1px rgba(0, 0, 0, 0.15);\n",
              "      filter: drop-shadow(0px 1px 2px rgba(0, 0, 0, 0.3));\n",
              "      fill: #FFFFFF;\n",
              "    }\n",
              "  </style>\n",
              "\n",
              "      <script>\n",
              "        const buttonEl =\n",
              "          document.querySelector('#df-d7d7ab1a-ed09-427e-b292-1ebb2078aabe button.colab-df-convert');\n",
              "        buttonEl.style.display =\n",
              "          google.colab.kernel.accessAllowed ? 'block' : 'none';\n",
              "\n",
              "        async function convertToInteractive(key) {\n",
              "          const element = document.querySelector('#df-d7d7ab1a-ed09-427e-b292-1ebb2078aabe');\n",
              "          const dataTable =\n",
              "            await google.colab.kernel.invokeFunction('convertToInteractive',\n",
              "                                                     [key], {});\n",
              "          if (!dataTable) return;\n",
              "\n",
              "          const docLinkHtml = 'Like what you see? Visit the ' +\n",
              "            '<a target=\"_blank\" href=https://colab.research.google.com/notebooks/data_table.ipynb>data table notebook</a>'\n",
              "            + ' to learn more about interactive tables.';\n",
              "          element.innerHTML = '';\n",
              "          dataTable['output_type'] = 'display_data';\n",
              "          await google.colab.output.renderOutput(dataTable, element);\n",
              "          const docLink = document.createElement('div');\n",
              "          docLink.innerHTML = docLinkHtml;\n",
              "          element.appendChild(docLink);\n",
              "        }\n",
              "      </script>\n",
              "    </div>\n",
              "  </div>\n",
              "  "
            ]
          },
          "metadata": {},
          "execution_count": 15
        }
      ]
    },
    {
      "cell_type": "code",
      "source": [
        "df_new['input1'] = df_new['input1'].fillna(df_new['input1'].mode()[0])\n",
        "df_new.info()"
      ],
      "metadata": {
        "colab": {
          "base_uri": "https://localhost:8080/"
        },
        "id": "SOWZ_de3Qmxf",
        "outputId": "3c64209d-d275-407f-b28c-fb95ef76dc94"
      },
      "execution_count": null,
      "outputs": [
        {
          "output_type": "stream",
          "name": "stdout",
          "text": [
            "<class 'pandas.core.frame.DataFrame'>\n",
            "RangeIndex: 435 entries, 0 to 434\n",
            "Data columns (total 17 columns):\n",
            " #   Column   Non-Null Count  Dtype \n",
            "---  ------   --------------  ----- \n",
            " 0   class    435 non-null    object\n",
            " 1   input1   435 non-null    object\n",
            " 2   input2   434 non-null    object\n",
            " 3   input3   434 non-null    object\n",
            " 4   input4   434 non-null    object\n",
            " 5   input5   434 non-null    object\n",
            " 6   input6   434 non-null    object\n",
            " 7   input7   434 non-null    object\n",
            " 8   input8   434 non-null    object\n",
            " 9   input9   434 non-null    object\n",
            " 10  input10  434 non-null    object\n",
            " 11  input11  434 non-null    object\n",
            " 12  input12  434 non-null    object\n",
            " 13  input13  434 non-null    object\n",
            " 14  input14  434 non-null    object\n",
            " 15  input15  434 non-null    object\n",
            " 16  input16  434 non-null    object\n",
            "dtypes: object(17)\n",
            "memory usage: 57.9+ KB\n"
          ]
        }
      ]
    },
    {
      "cell_type": "code",
      "source": [
        "df_new['input2'] = df_new['input2'].fillna(df_new['input2'].mode()[0])"
      ],
      "metadata": {
        "id": "JE2tb1wFRZSW"
      },
      "execution_count": null,
      "outputs": []
    },
    {
      "cell_type": "code",
      "source": [
        "df_new['input3'] = df_new['input3'].fillna(df_new['input3'].mode()[0])"
      ],
      "metadata": {
        "id": "qlgpLjq2Rb4m"
      },
      "execution_count": null,
      "outputs": []
    },
    {
      "cell_type": "code",
      "source": [
        "df_new['input4'] = df_new['input4'].fillna(df_new['input4'].mode()[0])"
      ],
      "metadata": {
        "id": "OQW1WEmQRfJr"
      },
      "execution_count": null,
      "outputs": []
    },
    {
      "cell_type": "code",
      "source": [
        "df_new['input5'] = df_new['input5'].fillna(df_new['input5'].mode()[0])"
      ],
      "metadata": {
        "id": "6SFYMa6IRi9X"
      },
      "execution_count": null,
      "outputs": []
    },
    {
      "cell_type": "code",
      "source": [
        "df_new['input6'] = df_new['input6'].fillna(df_new['input6'].mode()[0])"
      ],
      "metadata": {
        "id": "bPUayAyfRld3"
      },
      "execution_count": null,
      "outputs": []
    },
    {
      "cell_type": "code",
      "source": [
        "df_new['input7'] = df_new['input7'].fillna(df_new['input7'].mode()[0])"
      ],
      "metadata": {
        "id": "npjDAMabRoCN"
      },
      "execution_count": null,
      "outputs": []
    },
    {
      "cell_type": "code",
      "source": [
        "df_new['input8'] = df_new['input8'].fillna(df_new['input8'].mode()[0])"
      ],
      "metadata": {
        "id": "3BkivEwtRrPX"
      },
      "execution_count": null,
      "outputs": []
    },
    {
      "cell_type": "code",
      "source": [
        "df_new['input9'] = df_new['input9'].fillna(df_new['input9'].mode()[0])"
      ],
      "metadata": {
        "id": "wstwfylwRt3Z"
      },
      "execution_count": null,
      "outputs": []
    },
    {
      "cell_type": "code",
      "source": [
        "df_new['input10'] = df_new['input10'].fillna(df_new['input10'].mode()[0])"
      ],
      "metadata": {
        "id": "7A25eYgGSVya"
      },
      "execution_count": null,
      "outputs": []
    },
    {
      "cell_type": "code",
      "source": [
        "df_new['input11'] = df_new['input11'].fillna(df_new['input11'].mode()[0])"
      ],
      "metadata": {
        "id": "2Td1-0SMSYfb"
      },
      "execution_count": null,
      "outputs": []
    },
    {
      "cell_type": "code",
      "source": [
        "df_new['input12'] = df_new['input12'].fillna(df_new['input12'].mode()[0])"
      ],
      "metadata": {
        "id": "saqleuvrSyEK"
      },
      "execution_count": null,
      "outputs": []
    },
    {
      "cell_type": "code",
      "source": [
        "df_new['input13'] = df_new['input13'].fillna(df_new['input13'].mode()[0])"
      ],
      "metadata": {
        "id": "lY_sfhrYSbd0"
      },
      "execution_count": null,
      "outputs": []
    },
    {
      "cell_type": "code",
      "source": [
        "df_new['input14'] = df_new['input14'].fillna(df_new['input14'].mode()[0])"
      ],
      "metadata": {
        "id": "6O7k8xEXShkL"
      },
      "execution_count": null,
      "outputs": []
    },
    {
      "cell_type": "code",
      "source": [
        "df_new['input15'] = df_new['input15'].fillna(df_new['input15'].mode()[0])"
      ],
      "metadata": {
        "id": "A5CS4ToZSlFO"
      },
      "execution_count": null,
      "outputs": []
    },
    {
      "cell_type": "code",
      "source": [
        "df_new['input16'] = df_new['input16'].fillna(df_new['input16'].mode()[0])"
      ],
      "metadata": {
        "id": "CcQpb5z3Snc2"
      },
      "execution_count": null,
      "outputs": []
    },
    {
      "cell_type": "code",
      "source": [
        "df_new.info()"
      ],
      "metadata": {
        "colab": {
          "base_uri": "https://localhost:8080/"
        },
        "id": "wKVMQEyxS4PV",
        "outputId": "62fece04-14ff-4bac-9930-b90bc399d208"
      },
      "execution_count": null,
      "outputs": [
        {
          "output_type": "stream",
          "name": "stdout",
          "text": [
            "<class 'pandas.core.frame.DataFrame'>\n",
            "RangeIndex: 435 entries, 0 to 434\n",
            "Data columns (total 17 columns):\n",
            " #   Column   Non-Null Count  Dtype \n",
            "---  ------   --------------  ----- \n",
            " 0   class    435 non-null    object\n",
            " 1   input1   435 non-null    object\n",
            " 2   input2   435 non-null    object\n",
            " 3   input3   435 non-null    object\n",
            " 4   input4   435 non-null    object\n",
            " 5   input5   435 non-null    object\n",
            " 6   input6   435 non-null    object\n",
            " 7   input7   435 non-null    object\n",
            " 8   input8   435 non-null    object\n",
            " 9   input9   435 non-null    object\n",
            " 10  input10  435 non-null    object\n",
            " 11  input11  435 non-null    object\n",
            " 12  input12  435 non-null    object\n",
            " 13  input13  435 non-null    object\n",
            " 14  input14  435 non-null    object\n",
            " 15  input15  435 non-null    object\n",
            " 16  input16  435 non-null    object\n",
            "dtypes: object(17)\n",
            "memory usage: 57.9+ KB\n"
          ]
        }
      ]
    },
    {
      "cell_type": "code",
      "source": [
        "df_new['class'].value_counts()"
      ],
      "metadata": {
        "colab": {
          "base_uri": "https://localhost:8080/"
        },
        "id": "zkVTiNEeT9ew",
        "outputId": "88287550-24c1-4183-d146-6e201dd66b3d"
      },
      "execution_count": null,
      "outputs": [
        {
          "output_type": "execute_result",
          "data": {
            "text/plain": [
              "democrat      267\n",
              "republican    168\n",
              "Name: class, dtype: int64"
            ]
          },
          "metadata": {},
          "execution_count": 33
        }
      ]
    },
    {
      "cell_type": "code",
      "source": [
        "from sklearn import preprocessing\n",
        "le = preprocessing.LabelEncoder()\n",
        "#df_new['class'] = le.fit_transform(df_new['class'].values)"
      ],
      "metadata": {
        "id": "dJmkcVbNUZ91"
      },
      "execution_count": null,
      "outputs": []
    },
    {
      "cell_type": "code",
      "source": [
        "df_new.replace({'input1':{'n':0,'y':1},'input2':{'n':0,'y':1},'input3':{'n':0,'y':1},'input4':{'n':0,'y':1},'input5':{'n':0,'y':1},'input6':{'n':0,'y':1},'input7':{'n':0,'y':1},'input8':{'n':0,'y':1},'input9':{'n':0,'y':1},'input10':{'n':0,'y':1},'input11':{'n':0,'y':1},'input12':{'n':0,'y':1},'input13':{'n':0,'y':1},'input14':{'n':0,'y':1},'input15':{'n':0,'y':1},'input16':{'n':0,'y':1}},inplace=True)"
      ],
      "metadata": {
        "id": "AJaG8-S_Vtwb"
      },
      "execution_count": null,
      "outputs": []
    },
    {
      "cell_type": "code",
      "source": [],
      "metadata": {
        "id": "UqrOgWZNS9Nz"
      },
      "execution_count": null,
      "outputs": []
    },
    {
      "cell_type": "code",
      "source": [
        "df_new.info()"
      ],
      "metadata": {
        "colab": {
          "base_uri": "https://localhost:8080/"
        },
        "id": "kUSgLsAoX0Fc",
        "outputId": "559ea9ac-199d-45cd-c87f-afb71e021898"
      },
      "execution_count": null,
      "outputs": [
        {
          "output_type": "stream",
          "name": "stdout",
          "text": [
            "<class 'pandas.core.frame.DataFrame'>\n",
            "RangeIndex: 435 entries, 0 to 434\n",
            "Data columns (total 17 columns):\n",
            " #   Column   Non-Null Count  Dtype \n",
            "---  ------   --------------  ----- \n",
            " 0   class    435 non-null    object\n",
            " 1   input1   435 non-null    int64 \n",
            " 2   input2   435 non-null    int64 \n",
            " 3   input3   435 non-null    int64 \n",
            " 4   input4   435 non-null    int64 \n",
            " 5   input5   435 non-null    int64 \n",
            " 6   input6   435 non-null    int64 \n",
            " 7   input7   435 non-null    int64 \n",
            " 8   input8   435 non-null    int64 \n",
            " 9   input9   435 non-null    int64 \n",
            " 10  input10  435 non-null    int64 \n",
            " 11  input11  435 non-null    int64 \n",
            " 12  input12  435 non-null    int64 \n",
            " 13  input13  435 non-null    int64 \n",
            " 14  input14  435 non-null    int64 \n",
            " 15  input15  435 non-null    int64 \n",
            " 16  input16  435 non-null    int64 \n",
            "dtypes: int64(16), object(1)\n",
            "memory usage: 57.9+ KB\n"
          ]
        }
      ]
    },
    {
      "cell_type": "code",
      "source": [
        "y=df_new['class']\n",
        "y"
      ],
      "metadata": {
        "colab": {
          "base_uri": "https://localhost:8080/"
        },
        "id": "g86uzUs-ZGgN",
        "outputId": "73574fc7-14a5-4ad0-bbbf-3deaf3d015bc"
      },
      "execution_count": null,
      "outputs": [
        {
          "output_type": "execute_result",
          "data": {
            "text/plain": [
              "0      republican\n",
              "1      republican\n",
              "2        democrat\n",
              "3        democrat\n",
              "4        democrat\n",
              "          ...    \n",
              "430    republican\n",
              "431      democrat\n",
              "432    republican\n",
              "433    republican\n",
              "434    republican\n",
              "Name: class, Length: 435, dtype: object"
            ]
          },
          "metadata": {},
          "execution_count": 37
        }
      ]
    },
    {
      "cell_type": "code",
      "source": [
        "df_new.drop(['class'],axis=1,inplace=True)\n",
        "df_new"
      ],
      "metadata": {
        "colab": {
          "base_uri": "https://localhost:8080/",
          "height": 488
        },
        "id": "fQAslVhoZPDc",
        "outputId": "007ad711-e697-4ed2-9bb9-a5e80dcc13ad"
      },
      "execution_count": null,
      "outputs": [
        {
          "output_type": "execute_result",
          "data": {
            "text/plain": [
              "     input1  input2  input3  input4  input5  input6  input7  input8  input9  \\\n",
              "0         0       1       0       1       1       1       0       0       0   \n",
              "1         0       1       0       1       1       1       0       0       0   \n",
              "2         0       1       1       0       1       1       0       0       0   \n",
              "3         0       1       1       0       0       1       0       0       0   \n",
              "4         1       1       1       0       1       1       0       0       0   \n",
              "..      ...     ...     ...     ...     ...     ...     ...     ...     ...   \n",
              "430       0       0       1       1       1       1       0       0       1   \n",
              "431       0       0       1       0       0       0       1       1       1   \n",
              "432       0       1       0       1       1       1       0       0       0   \n",
              "433       0       0       0       1       1       1       1       1       1   \n",
              "434       0       1       0       1       1       1       0       0       0   \n",
              "\n",
              "     input10  input11  input12  input13  input14  input15  input16  \n",
              "0          1        1        1        1        1        0        1  \n",
              "1          0        0        1        1        1        0        0  \n",
              "2          0        1        0        1        1        0        0  \n",
              "3          0        1        0        1        0        0        1  \n",
              "4          0        1        1        1        1        1        1  \n",
              "..       ...      ...      ...      ...      ...      ...      ...  \n",
              "430        1        0        1        1        1        0        1  \n",
              "431        1        0        0        0        0        0        1  \n",
              "432        0        1        1        1        1        0        1  \n",
              "433        1        0        1        1        1        0        1  \n",
              "434        1        0        1        1        1        1        0  \n",
              "\n",
              "[435 rows x 16 columns]"
            ],
            "text/html": [
              "\n",
              "  <div id=\"df-4506755f-6f1d-4a3f-acef-d176769236c0\">\n",
              "    <div class=\"colab-df-container\">\n",
              "      <div>\n",
              "<style scoped>\n",
              "    .dataframe tbody tr th:only-of-type {\n",
              "        vertical-align: middle;\n",
              "    }\n",
              "\n",
              "    .dataframe tbody tr th {\n",
              "        vertical-align: top;\n",
              "    }\n",
              "\n",
              "    .dataframe thead th {\n",
              "        text-align: right;\n",
              "    }\n",
              "</style>\n",
              "<table border=\"1\" class=\"dataframe\">\n",
              "  <thead>\n",
              "    <tr style=\"text-align: right;\">\n",
              "      <th></th>\n",
              "      <th>input1</th>\n",
              "      <th>input2</th>\n",
              "      <th>input3</th>\n",
              "      <th>input4</th>\n",
              "      <th>input5</th>\n",
              "      <th>input6</th>\n",
              "      <th>input7</th>\n",
              "      <th>input8</th>\n",
              "      <th>input9</th>\n",
              "      <th>input10</th>\n",
              "      <th>input11</th>\n",
              "      <th>input12</th>\n",
              "      <th>input13</th>\n",
              "      <th>input14</th>\n",
              "      <th>input15</th>\n",
              "      <th>input16</th>\n",
              "    </tr>\n",
              "  </thead>\n",
              "  <tbody>\n",
              "    <tr>\n",
              "      <th>0</th>\n",
              "      <td>0</td>\n",
              "      <td>1</td>\n",
              "      <td>0</td>\n",
              "      <td>1</td>\n",
              "      <td>1</td>\n",
              "      <td>1</td>\n",
              "      <td>0</td>\n",
              "      <td>0</td>\n",
              "      <td>0</td>\n",
              "      <td>1</td>\n",
              "      <td>1</td>\n",
              "      <td>1</td>\n",
              "      <td>1</td>\n",
              "      <td>1</td>\n",
              "      <td>0</td>\n",
              "      <td>1</td>\n",
              "    </tr>\n",
              "    <tr>\n",
              "      <th>1</th>\n",
              "      <td>0</td>\n",
              "      <td>1</td>\n",
              "      <td>0</td>\n",
              "      <td>1</td>\n",
              "      <td>1</td>\n",
              "      <td>1</td>\n",
              "      <td>0</td>\n",
              "      <td>0</td>\n",
              "      <td>0</td>\n",
              "      <td>0</td>\n",
              "      <td>0</td>\n",
              "      <td>1</td>\n",
              "      <td>1</td>\n",
              "      <td>1</td>\n",
              "      <td>0</td>\n",
              "      <td>0</td>\n",
              "    </tr>\n",
              "    <tr>\n",
              "      <th>2</th>\n",
              "      <td>0</td>\n",
              "      <td>1</td>\n",
              "      <td>1</td>\n",
              "      <td>0</td>\n",
              "      <td>1</td>\n",
              "      <td>1</td>\n",
              "      <td>0</td>\n",
              "      <td>0</td>\n",
              "      <td>0</td>\n",
              "      <td>0</td>\n",
              "      <td>1</td>\n",
              "      <td>0</td>\n",
              "      <td>1</td>\n",
              "      <td>1</td>\n",
              "      <td>0</td>\n",
              "      <td>0</td>\n",
              "    </tr>\n",
              "    <tr>\n",
              "      <th>3</th>\n",
              "      <td>0</td>\n",
              "      <td>1</td>\n",
              "      <td>1</td>\n",
              "      <td>0</td>\n",
              "      <td>0</td>\n",
              "      <td>1</td>\n",
              "      <td>0</td>\n",
              "      <td>0</td>\n",
              "      <td>0</td>\n",
              "      <td>0</td>\n",
              "      <td>1</td>\n",
              "      <td>0</td>\n",
              "      <td>1</td>\n",
              "      <td>0</td>\n",
              "      <td>0</td>\n",
              "      <td>1</td>\n",
              "    </tr>\n",
              "    <tr>\n",
              "      <th>4</th>\n",
              "      <td>1</td>\n",
              "      <td>1</td>\n",
              "      <td>1</td>\n",
              "      <td>0</td>\n",
              "      <td>1</td>\n",
              "      <td>1</td>\n",
              "      <td>0</td>\n",
              "      <td>0</td>\n",
              "      <td>0</td>\n",
              "      <td>0</td>\n",
              "      <td>1</td>\n",
              "      <td>1</td>\n",
              "      <td>1</td>\n",
              "      <td>1</td>\n",
              "      <td>1</td>\n",
              "      <td>1</td>\n",
              "    </tr>\n",
              "    <tr>\n",
              "      <th>...</th>\n",
              "      <td>...</td>\n",
              "      <td>...</td>\n",
              "      <td>...</td>\n",
              "      <td>...</td>\n",
              "      <td>...</td>\n",
              "      <td>...</td>\n",
              "      <td>...</td>\n",
              "      <td>...</td>\n",
              "      <td>...</td>\n",
              "      <td>...</td>\n",
              "      <td>...</td>\n",
              "      <td>...</td>\n",
              "      <td>...</td>\n",
              "      <td>...</td>\n",
              "      <td>...</td>\n",
              "      <td>...</td>\n",
              "    </tr>\n",
              "    <tr>\n",
              "      <th>430</th>\n",
              "      <td>0</td>\n",
              "      <td>0</td>\n",
              "      <td>1</td>\n",
              "      <td>1</td>\n",
              "      <td>1</td>\n",
              "      <td>1</td>\n",
              "      <td>0</td>\n",
              "      <td>0</td>\n",
              "      <td>1</td>\n",
              "      <td>1</td>\n",
              "      <td>0</td>\n",
              "      <td>1</td>\n",
              "      <td>1</td>\n",
              "      <td>1</td>\n",
              "      <td>0</td>\n",
              "      <td>1</td>\n",
              "    </tr>\n",
              "    <tr>\n",
              "      <th>431</th>\n",
              "      <td>0</td>\n",
              "      <td>0</td>\n",
              "      <td>1</td>\n",
              "      <td>0</td>\n",
              "      <td>0</td>\n",
              "      <td>0</td>\n",
              "      <td>1</td>\n",
              "      <td>1</td>\n",
              "      <td>1</td>\n",
              "      <td>1</td>\n",
              "      <td>0</td>\n",
              "      <td>0</td>\n",
              "      <td>0</td>\n",
              "      <td>0</td>\n",
              "      <td>0</td>\n",
              "      <td>1</td>\n",
              "    </tr>\n",
              "    <tr>\n",
              "      <th>432</th>\n",
              "      <td>0</td>\n",
              "      <td>1</td>\n",
              "      <td>0</td>\n",
              "      <td>1</td>\n",
              "      <td>1</td>\n",
              "      <td>1</td>\n",
              "      <td>0</td>\n",
              "      <td>0</td>\n",
              "      <td>0</td>\n",
              "      <td>0</td>\n",
              "      <td>1</td>\n",
              "      <td>1</td>\n",
              "      <td>1</td>\n",
              "      <td>1</td>\n",
              "      <td>0</td>\n",
              "      <td>1</td>\n",
              "    </tr>\n",
              "    <tr>\n",
              "      <th>433</th>\n",
              "      <td>0</td>\n",
              "      <td>0</td>\n",
              "      <td>0</td>\n",
              "      <td>1</td>\n",
              "      <td>1</td>\n",
              "      <td>1</td>\n",
              "      <td>1</td>\n",
              "      <td>1</td>\n",
              "      <td>1</td>\n",
              "      <td>1</td>\n",
              "      <td>0</td>\n",
              "      <td>1</td>\n",
              "      <td>1</td>\n",
              "      <td>1</td>\n",
              "      <td>0</td>\n",
              "      <td>1</td>\n",
              "    </tr>\n",
              "    <tr>\n",
              "      <th>434</th>\n",
              "      <td>0</td>\n",
              "      <td>1</td>\n",
              "      <td>0</td>\n",
              "      <td>1</td>\n",
              "      <td>1</td>\n",
              "      <td>1</td>\n",
              "      <td>0</td>\n",
              "      <td>0</td>\n",
              "      <td>0</td>\n",
              "      <td>1</td>\n",
              "      <td>0</td>\n",
              "      <td>1</td>\n",
              "      <td>1</td>\n",
              "      <td>1</td>\n",
              "      <td>1</td>\n",
              "      <td>0</td>\n",
              "    </tr>\n",
              "  </tbody>\n",
              "</table>\n",
              "<p>435 rows × 16 columns</p>\n",
              "</div>\n",
              "      <button class=\"colab-df-convert\" onclick=\"convertToInteractive('df-4506755f-6f1d-4a3f-acef-d176769236c0')\"\n",
              "              title=\"Convert this dataframe to an interactive table.\"\n",
              "              style=\"display:none;\">\n",
              "        \n",
              "  <svg xmlns=\"http://www.w3.org/2000/svg\" height=\"24px\"viewBox=\"0 0 24 24\"\n",
              "       width=\"24px\">\n",
              "    <path d=\"M0 0h24v24H0V0z\" fill=\"none\"/>\n",
              "    <path d=\"M18.56 5.44l.94 2.06.94-2.06 2.06-.94-2.06-.94-.94-2.06-.94 2.06-2.06.94zm-11 1L8.5 8.5l.94-2.06 2.06-.94-2.06-.94L8.5 2.5l-.94 2.06-2.06.94zm10 10l.94 2.06.94-2.06 2.06-.94-2.06-.94-.94-2.06-.94 2.06-2.06.94z\"/><path d=\"M17.41 7.96l-1.37-1.37c-.4-.4-.92-.59-1.43-.59-.52 0-1.04.2-1.43.59L10.3 9.45l-7.72 7.72c-.78.78-.78 2.05 0 2.83L4 21.41c.39.39.9.59 1.41.59.51 0 1.02-.2 1.41-.59l7.78-7.78 2.81-2.81c.8-.78.8-2.07 0-2.86zM5.41 20L4 18.59l7.72-7.72 1.47 1.35L5.41 20z\"/>\n",
              "  </svg>\n",
              "      </button>\n",
              "      \n",
              "  <style>\n",
              "    .colab-df-container {\n",
              "      display:flex;\n",
              "      flex-wrap:wrap;\n",
              "      gap: 12px;\n",
              "    }\n",
              "\n",
              "    .colab-df-convert {\n",
              "      background-color: #E8F0FE;\n",
              "      border: none;\n",
              "      border-radius: 50%;\n",
              "      cursor: pointer;\n",
              "      display: none;\n",
              "      fill: #1967D2;\n",
              "      height: 32px;\n",
              "      padding: 0 0 0 0;\n",
              "      width: 32px;\n",
              "    }\n",
              "\n",
              "    .colab-df-convert:hover {\n",
              "      background-color: #E2EBFA;\n",
              "      box-shadow: 0px 1px 2px rgba(60, 64, 67, 0.3), 0px 1px 3px 1px rgba(60, 64, 67, 0.15);\n",
              "      fill: #174EA6;\n",
              "    }\n",
              "\n",
              "    [theme=dark] .colab-df-convert {\n",
              "      background-color: #3B4455;\n",
              "      fill: #D2E3FC;\n",
              "    }\n",
              "\n",
              "    [theme=dark] .colab-df-convert:hover {\n",
              "      background-color: #434B5C;\n",
              "      box-shadow: 0px 1px 3px 1px rgba(0, 0, 0, 0.15);\n",
              "      filter: drop-shadow(0px 1px 2px rgba(0, 0, 0, 0.3));\n",
              "      fill: #FFFFFF;\n",
              "    }\n",
              "  </style>\n",
              "\n",
              "      <script>\n",
              "        const buttonEl =\n",
              "          document.querySelector('#df-4506755f-6f1d-4a3f-acef-d176769236c0 button.colab-df-convert');\n",
              "        buttonEl.style.display =\n",
              "          google.colab.kernel.accessAllowed ? 'block' : 'none';\n",
              "\n",
              "        async function convertToInteractive(key) {\n",
              "          const element = document.querySelector('#df-4506755f-6f1d-4a3f-acef-d176769236c0');\n",
              "          const dataTable =\n",
              "            await google.colab.kernel.invokeFunction('convertToInteractive',\n",
              "                                                     [key], {});\n",
              "          if (!dataTable) return;\n",
              "\n",
              "          const docLinkHtml = 'Like what you see? Visit the ' +\n",
              "            '<a target=\"_blank\" href=https://colab.research.google.com/notebooks/data_table.ipynb>data table notebook</a>'\n",
              "            + ' to learn more about interactive tables.';\n",
              "          element.innerHTML = '';\n",
              "          dataTable['output_type'] = 'display_data';\n",
              "          await google.colab.output.renderOutput(dataTable, element);\n",
              "          const docLink = document.createElement('div');\n",
              "          docLink.innerHTML = docLinkHtml;\n",
              "          element.appendChild(docLink);\n",
              "        }\n",
              "      </script>\n",
              "    </div>\n",
              "  </div>\n",
              "  "
            ]
          },
          "metadata": {},
          "execution_count": 38
        }
      ]
    },
    {
      "cell_type": "code",
      "source": [
        "df = df_new.astype(int)\n",
        "x=df_new"
      ],
      "metadata": {
        "id": "x7z6t1aNZrIh"
      },
      "execution_count": null,
      "outputs": []
    },
    {
      "cell_type": "code",
      "source": [
        "from sklearn.model_selection import train_test_split\n",
        "from sklearn.tree import DecisionTreeClassifier\n",
        "from sklearn.metrics import accuracy_score\n"
      ],
      "metadata": {
        "id": "SuU4CAmHYm-H"
      },
      "execution_count": null,
      "outputs": []
    },
    {
      "cell_type": "code",
      "source": [
        "acc_50=[]\n",
        "nodes_50=[]\n",
        "depth_50=[]\n",
        "for i in range(1,6):\n",
        "  x_train, x_test, y_train, y_test = train_test_split(x, y, train_size=0.50, shuffle =True,random_state=i+1)\n",
        "  clf = DecisionTreeClassifier(criterion='entropy')\n",
        "  clf.fit(x_train,y_train)\n",
        "  y_pred=clf.predict(x_test)\n",
        "  acc_50.append(accuracy_score(y_test, y_pred))\n",
        "  # calc node count\n",
        "  nodes_50.append(clf.tree_.node_count)\n",
        "  depth_50.append(clf.tree_.max_depth)\n",
        "  \n",
        "  #print('accuracy for ', i ,'shuffiling seed',acc)\n",
        "print(acc_50)\n",
        "print(nodes_50)\n",
        "print(depth_50)\n"
      ],
      "metadata": {
        "colab": {
          "base_uri": "https://localhost:8080/"
        },
        "id": "hIoXBiNWSYvS",
        "outputId": "538a0bd3-9ba3-4a0d-e6e3-356a09401b65"
      },
      "execution_count": null,
      "outputs": [
        {
          "output_type": "stream",
          "name": "stdout",
          "text": [
            "[0.9311926605504587, 0.963302752293578, 0.9311926605504587, 0.9541284403669725, 0.9357798165137615]\n",
            "[33, 53, 31, 25, 29]\n",
            "[6, 8, 7, 5, 8]\n"
          ]
        }
      ]
    },
    {
      "cell_type": "code",
      "source": [
        "import statistics\n",
        "print(\"max accuracy for train size 0.50: \", max(acc_50))\n",
        "print(\"min accuracy for train size 0.50: \", min(acc_50))\n",
        "print(\"max number of nodes for train size 0.50: \", max(nodes_50))\n",
        "print(\"min number of nodes for train size 0.50: \", min(nodes_50))\n",
        "print(\"mean number of nodes for train size 0.50: \", statistics.mean(nodes_50))\n",
        "print(\"max number of depth for train size 0.50: \", max(depth_50))\n",
        "print(\"min number of depth for train size 0.50: \", min(depth_50))\n",
        "print(\"mean number of depth for train size 0.50: \", statistics.mean(depth_50))"
      ],
      "metadata": {
        "colab": {
          "base_uri": "https://localhost:8080/"
        },
        "id": "M9jBnlw7vpFY",
        "outputId": "37878449-67bc-416b-a747-dd2105a91b12"
      },
      "execution_count": null,
      "outputs": [
        {
          "output_type": "stream",
          "name": "stdout",
          "text": [
            "max accuracy for train size 0.50:  0.963302752293578\n",
            "min accuracy for train size 0.50:  0.9311926605504587\n",
            "max number of nodes for train size 0.50:  53\n",
            "min number of nodes for train size 0.50:  25\n",
            "mean number of nodes for train size 0.50:  34.2\n",
            "max number of depth for train size 0.50:  8\n",
            "min number of depth for train size 0.50:  5\n",
            "mean number of depth for train size 0.50:  6.8\n"
          ]
        }
      ]
    },
    {
      "cell_type": "code",
      "source": [
        "acc_40=[]\n",
        "nodes_40=[]\n",
        "depth_40=[]\n",
        "for i in range(1,6):\n",
        "  x_train, x_test, y_train, y_test = train_test_split(x, y, train_size=0.60, shuffle =True,random_state=i+2)\n",
        "  clf = DecisionTreeClassifier(criterion='entropy')\n",
        "  clf.fit(x_train,y_train)\n",
        "  y_pred=clf.predict(x_test)\n",
        "  acc_40.append(accuracy_score(y_test, y_pred))\n",
        "  nodes_40.append(clf.tree_.node_count)\n",
        "  depth_40.append(clf.tree_.max_depth)\n",
        "  #print('accuracy for ', i ,'shuffiling seed',acc)\n",
        "print(acc_40)\n",
        "print(nodes_40)\n",
        "print(depth_40)"
      ],
      "metadata": {
        "colab": {
          "base_uri": "https://localhost:8080/"
        },
        "id": "SLXVV4OFXOGE",
        "outputId": "9865467e-b210-4892-96a7-e5c774152b08"
      },
      "execution_count": null,
      "outputs": [
        {
          "output_type": "stream",
          "name": "stdout",
          "text": [
            "[0.9770114942528736, 0.9597701149425287, 0.9540229885057471, 0.9425287356321839, 0.9310344827586207]\n",
            "[65, 51, 27, 39, 35]\n",
            "[11, 8, 5, 8, 8]\n"
          ]
        }
      ]
    },
    {
      "cell_type": "code",
      "source": [
        "print(\"max accuracy for train size 0.60: \", max(acc_40))\n",
        "print(\"min accuracy for train size 0.60: \", min(acc_40))\n",
        "print(\"max number of nodes for train size 0.60: \", max(nodes_40))\n",
        "print(\"min number of nodes for train size 0.60: \", min(nodes_40))\n",
        "print(\"mean number of nodes for train size 0.60: \", statistics.mean(nodes_40))\n",
        "print(\"max number of depth for train size 0.60: \", max(depth_40))\n",
        "print(\"min number of depth for train size 0.60: \", min(depth_40))\n",
        "print(\"mean number of depth for train size 0.60: \", statistics.mean(depth_40))"
      ],
      "metadata": {
        "colab": {
          "base_uri": "https://localhost:8080/"
        },
        "id": "icGK4EFyxZHq",
        "outputId": "0ad7223c-1678-4cbc-fe29-edf911030f6a"
      },
      "execution_count": null,
      "outputs": [
        {
          "output_type": "stream",
          "name": "stdout",
          "text": [
            "max accuracy for train size 0.60:  0.9770114942528736\n",
            "min accuracy for train size 0.60:  0.9310344827586207\n",
            "max number of nodes for train size 0.60:  65\n",
            "min number of nodes for train size 0.60:  27\n",
            "mean number of nodes for train size 0.60:  43.4\n",
            "max number of depth for train size 0.60:  11\n",
            "min number of depth for train size 0.60:  5\n",
            "mean number of depth for train size 0.60:  8\n"
          ]
        }
      ]
    },
    {
      "cell_type": "code",
      "source": [
        "acc_30=[]\n",
        "nodes_30=[]\n",
        "depth_30=[]\n",
        "for i in range(1,6):\n",
        "  x_train, x_test, y_train, y_test = train_test_split(x, y, train_size=0.70, shuffle =True,random_state=i+9)\n",
        "  clf = DecisionTreeClassifier(criterion='entropy')\n",
        "  clf.fit(x_train,y_train)\n",
        "  y_pred=clf.predict(x_test)\n",
        "  acc_30.append(accuracy_score(y_test, y_pred))\n",
        "  #print('accuracy for ', i ,'shuffiling seed',acc)\n",
        "  nodes_30.append(clf.tree_.node_count)\n",
        "  depth_30.append(clf.tree_.max_depth)\n",
        "print(acc_30)\n",
        "print(nodes_30)\n",
        "print(depth_30)\n",
        "  "
      ],
      "metadata": {
        "colab": {
          "base_uri": "https://localhost:8080/"
        },
        "id": "50PFWrqSXUMK",
        "outputId": "071455a7-def9-4f76-aa27-e5fba2946707"
      },
      "execution_count": null,
      "outputs": [
        {
          "output_type": "stream",
          "name": "stdout",
          "text": [
            "[0.9618320610687023, 0.9465648854961832, 0.9007633587786259, 0.9312977099236641, 0.9847328244274809]\n",
            "[51, 51, 47, 47, 53]\n",
            "[10, 7, 9, 8, 10]\n"
          ]
        }
      ]
    },
    {
      "cell_type": "code",
      "source": [
        "print(\"max accuracy for train size 0.70: \", max(acc_30))\n",
        "print(\"min accuracy for train size 0.70: \", min(acc_30))\n",
        "print(\"max number of nodes for train size 0.70: \", max(nodes_30))\n",
        "print(\"min number of nodes for train size 0.70: \", min(nodes_30))\n",
        "print(\"mean number of nodes for train size 0.70: \", statistics.mean(nodes_30))\n",
        "print(\"max number of depth for train size 0.70: \", max(depth_30))\n",
        "print(\"min number of depth for train size 0.70: \", min(depth_30))\n",
        "print(\"mean number of depth for train size 0.70: \", statistics.mean(depth_30))"
      ],
      "metadata": {
        "colab": {
          "base_uri": "https://localhost:8080/"
        },
        "id": "OoWfEpuKxiuh",
        "outputId": "98e7e2d7-10ec-4a30-db82-3c79326add83"
      },
      "execution_count": null,
      "outputs": [
        {
          "output_type": "stream",
          "name": "stdout",
          "text": [
            "max accuracy for train size 0.70:  0.9847328244274809\n",
            "min accuracy for train size 0.70:  0.9007633587786259\n",
            "max number of nodes for train size 0.70:  53\n",
            "min number of nodes for train size 0.70:  47\n",
            "mean number of nodes for train size 0.70:  49.8\n",
            "max number of depth for train size 0.70:  10\n",
            "min number of depth for train size 0.70:  7\n",
            "mean number of depth for train size 0.70:  8.8\n"
          ]
        }
      ]
    },
    {
      "cell_type": "code",
      "source": [
        "acc_25=[]\n",
        "nodes_25=[]\n",
        "depth_25=[]\n",
        "for i in range(1,6):\n",
        "  x_train, x_test, y_train, y_test = train_test_split(x, y, train_size=0.75, shuffle =True,random_state=i*3)\n",
        "  clf = DecisionTreeClassifier(criterion='entropy')\n",
        "  clf.fit(x_train,y_train)\n",
        "  y_pred=clf.predict(x_test)\n",
        "  acc_25.append(accuracy_score(y_test, y_pred))\n",
        "  nodes_25.append(clf.tree_.node_count)\n",
        "  depth_25.append(clf.tree_.max_depth)\n",
        "  #print('accuracy for ', i ,'shuffiling seed',acc)\n",
        "print(acc_25)\n",
        "print(nodes_25)\n",
        "print(depth_25)"
      ],
      "metadata": {
        "colab": {
          "base_uri": "https://localhost:8080/"
        },
        "id": "LKOlsQ-BXZ2a",
        "outputId": "128d6406-0935-4818-dac9-00aacfec150e"
      },
      "execution_count": null,
      "outputs": [
        {
          "output_type": "stream",
          "name": "stdout",
          "text": [
            "[0.944954128440367, 0.926605504587156, 0.9174311926605505, 0.9357798165137615, 0.9357798165137615]\n",
            "[61, 47, 45, 43, 39]\n",
            "[10, 9, 8, 9, 8]\n"
          ]
        }
      ]
    },
    {
      "cell_type": "code",
      "source": [
        "print(\"max accuracy for train size 0.75: \", max(acc_25))\n",
        "print(\"min accuracy for train size 0.75: \", min(acc_25))\n",
        "print(\"max number of nodes for train size 0.75: \", max(nodes_25))\n",
        "print(\"min number of nodes for train size 0.75: \", min(nodes_25))\n",
        "print(\"mean number of nodes for train size 0.75: \", statistics.mean(nodes_25))\n",
        "print(\"max number of depth for train size 0.75: \", max(depth_25))\n",
        "print(\"min number of depth for train size 0.75: \", min(depth_25))\n",
        "print(\"mean number of depth for train size 0.75: \", statistics.mean(depth_25))"
      ],
      "metadata": {
        "colab": {
          "base_uri": "https://localhost:8080/"
        },
        "id": "BiYZsDNLxqDv",
        "outputId": "915d7ff6-dc47-47a9-fbab-3a51e9e19c7c"
      },
      "execution_count": null,
      "outputs": [
        {
          "output_type": "stream",
          "name": "stdout",
          "text": [
            "max accuracy for train size 0.75:  0.944954128440367\n",
            "min accuracy for train size 0.75:  0.9174311926605505\n",
            "max number of nodes for train size 0.75:  61\n",
            "min number of nodes for train size 0.75:  39\n",
            "mean number of nodes for train size 0.75:  47\n",
            "max number of depth for train size 0.75:  10\n",
            "min number of depth for train size 0.75:  8\n",
            "mean number of depth for train size 0.75:  8.8\n"
          ]
        }
      ]
    },
    {
      "cell_type": "code",
      "source": [
        "acc_20=[]\n",
        "nodes_20=[]\n",
        "depth_20=[]\n",
        "for i in range(1,6):\n",
        "  x_train, x_test, y_train, y_test = train_test_split(x, y, train_size=0.80, shuffle =True,random_state=i*5)\n",
        "  clf = DecisionTreeClassifier(criterion='entropy')\n",
        "  clf.fit(x_train,y_train)\n",
        "  y_pred=clf.predict(x_test)\n",
        "  acc_20.append(accuracy_score(y_test, y_pred))\n",
        "  nodes_20.append(clf.tree_.node_count)\n",
        "  depth_20.append(clf.tree_.max_depth)\n",
        "  #print('accuracy for ', i ,'shuffiling seed',acc)\n",
        "print(acc_20)\n",
        "print(nodes_20)\n",
        "print(depth_20)"
      ],
      "metadata": {
        "colab": {
          "base_uri": "https://localhost:8080/"
        },
        "id": "_1F42NeKXiC8",
        "outputId": "1622ddc4-f1ac-4c4e-f7fc-b8a75a3614f6"
      },
      "execution_count": null,
      "outputs": [
        {
          "output_type": "stream",
          "name": "stdout",
          "text": [
            "[0.9195402298850575, 0.9655172413793104, 0.9425287356321839, 0.896551724137931, 0.9425287356321839]\n",
            "[39, 55, 47, 51, 45]\n",
            "[8, 10, 7, 9, 7]\n"
          ]
        }
      ]
    },
    {
      "cell_type": "code",
      "source": [
        "print(\"max accuracy for train size 0.80: \", max(acc_20))\n",
        "print(\"min accuracy for train size 0.80: \", min(acc_20))\n",
        "print(\"max number of nodes for train size 0.80: \", max(nodes_20))\n",
        "print(\"min number of nodes for train size 0.80: \", min(nodes_20))\n",
        "print(\"mean number of nodes for train size 0.80: \", statistics.mean(nodes_20))\n",
        "print(\"max number of depth for train size 0.80: \", max(depth_20))\n",
        "print(\"min number of depth for train size 0.80: \", min(depth_20))\n",
        "print(\"mean number of depth for train size 0.80: \", statistics.mean(depth_20))"
      ],
      "metadata": {
        "colab": {
          "base_uri": "https://localhost:8080/"
        },
        "id": "lsVYgKLwx7Jv",
        "outputId": "1afd34db-2794-4ffb-9cca-cdf4a7415f79"
      },
      "execution_count": null,
      "outputs": [
        {
          "output_type": "stream",
          "name": "stdout",
          "text": [
            "max accuracy for train size 0.80:  0.9655172413793104\n",
            "min accuracy for train size 0.80:  0.896551724137931\n",
            "max number of nodes for train size 0.80:  55\n",
            "min number of nodes for train size 0.80:  39\n",
            "mean number of nodes for train size 0.80:  47.4\n",
            "max number of depth for train size 0.80:  10\n",
            "min number of depth for train size 0.80:  7\n",
            "mean number of depth for train size 0.80:  8.2\n"
          ]
        }
      ]
    },
    {
      "cell_type": "code",
      "source": [
        "av1=sum(acc_50)/len(acc_50)\n",
        "print(\"avg acc of test size 0.50:\" ,av1)\n",
        "print(\"-----------------------------------------------------------------\")\n",
        "av2=sum(acc_40)/len(acc_40)\n",
        "print(\"avg acc of test size 0.40:\" ,av2)\n",
        "print(\"-----------------------------------------------------------------\")\n",
        "av3=sum(acc_30)/len(acc_30)\n",
        "print(\"avg acc of test size 0.30:\" ,av3)\n",
        "print(\"-----------------------------------------------------------------\")\n",
        "av4=sum(acc_25)/len(acc_25)\n",
        "print(\"avg acc of test size 0.25:\" ,av4)\n",
        "print(\"-----------------------------------------------------------------\")\n",
        "av5=sum(acc_20)/len(acc_20)\n",
        "print(\"avg acc of test size 0.20:\" ,av5)"
      ],
      "metadata": {
        "colab": {
          "base_uri": "https://localhost:8080/"
        },
        "id": "VHjKVD8wZbG8",
        "outputId": "0e269bde-652c-46fe-83cd-8fbc36acb614"
      },
      "execution_count": null,
      "outputs": [
        {
          "output_type": "stream",
          "name": "stdout",
          "text": [
            "avg acc of test size 0.50: 0.9431192660550458\n",
            "-----------------------------------------------------------------\n",
            "avg acc of test size 0.40: 0.9528735632183908\n",
            "-----------------------------------------------------------------\n",
            "avg acc of test size 0.30: 0.9450381679389313\n",
            "-----------------------------------------------------------------\n",
            "avg acc of test size 0.25: 0.9321100917431193\n",
            "-----------------------------------------------------------------\n",
            "avg acc of test size 0.20: 0.9333333333333332\n"
          ]
        }
      ]
    },
    {
      "cell_type": "code",
      "source": [
        "y=[av1,av2,av3,av4,av5]\n",
        "x=[50,60,70,75,80]\n",
        "plt.plot(x,y)\n",
        "plt.show()"
      ],
      "metadata": {
        "colab": {
          "base_uri": "https://localhost:8080/",
          "height": 265
        },
        "id": "Symvj_z7aVaX",
        "outputId": "74f323d6-c2c1-451d-a54b-11ec8711bf3a"
      },
      "execution_count": null,
      "outputs": [
        {
          "output_type": "display_data",
          "data": {
            "text/plain": [
              "<Figure size 432x288 with 1 Axes>"
            ],
            "image/png": "[encoded data removed]"
          },
          "metadata": {
            "needs_background": "light"
          }
        }
      ]
    },
    {
      "cell_type": "code",
      "source": [
        "y1=[statistics.mean(acc_50),statistics.mean(acc_40),statistics.mean(acc_30),statistics.mean(acc_25),statistics.mean(acc_20)]\n",
        "x1=[50,60,70,75,80]\n",
        "plt.plot(x1,y1)\n",
        "plt.show()"
      ],
      "metadata": {
        "colab": {
          "base_uri": "https://localhost:8080/",
          "height": 265
        },
        "id": "x-mD_ip7vhvA",
        "outputId": "88487533-fa45-4fba-e74b-8d7c5fb93ebe"
      },
      "execution_count": null,
      "outputs": [
        {
          "output_type": "display_data",
          "data": {
            "text/plain": [
              "<Figure size 432x288 with 1 Axes>"
            ],
            "image/png": "[encoded data removed]"
          },
          "metadata": {
            "needs_background": "light"
          }
        }
      ]
    },
    {
      "cell_type": "code",
      "source": [
        "y2=[statistics.mean(nodes_50),statistics.mean(nodes_40),statistics.mean(nodes_30),statistics.mean(nodes_25),statistics.mean(nodes_20)]\n",
        "x2=[50,60,70,75,80]\n",
        "plt.plot(x2,y2)\n",
        "plt.show()"
      ],
      "metadata": {
        "colab": {
          "base_uri": "https://localhost:8080/",
          "height": 265
        },
        "id": "EJdauMT-zlZr",
        "outputId": "91ff06e0-33de-4a87-d901-c1e553bf7f23"
      },
      "execution_count": null,
      "outputs": [
        {
          "output_type": "display_data",
          "data": {
            "text/plain": [
              "<Figure size 432x288 with 1 Axes>"
            ],
            "image/png": "[encoded data removed]"
          },
          "metadata": {
            "needs_background": "light"
          }
        }
      ]
    },
    {
      "cell_type": "code",
      "source": [
        "y3=[statistics.mean(depth_50),statistics.mean(depth_40),statistics.mean(depth_30),statistics.mean(depth_25),statistics.mean(depth_20)]\n",
        "x3=[50,60,70,75,80]\n",
        "plt.plot(x3,y3)\n",
        "plt.show()"
      ],
      "metadata": {
        "colab": {
          "base_uri": "https://localhost:8080/",
          "height": 265
        },
        "id": "ZLtUbHBrz5wr",
        "outputId": "8025c113-6227-4963-88d2-bc7ef9d534fb"
      },
      "execution_count": null,
      "outputs": [
        {
          "output_type": "display_data",
          "data": {
            "text/plain": [
              "<Figure size 432x288 with 1 Axes>"
            ],
            "image/png": "[encoded data removed]"
          },
          "metadata": {
            "needs_background": "light"
          }
        }
      ]
    }
  ]
}